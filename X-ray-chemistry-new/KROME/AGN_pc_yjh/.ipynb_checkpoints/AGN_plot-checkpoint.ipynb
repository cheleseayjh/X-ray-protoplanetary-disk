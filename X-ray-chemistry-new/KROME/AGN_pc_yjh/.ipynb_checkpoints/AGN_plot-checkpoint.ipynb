{
 "cells": [
  {
   "cell_type": "code",
   "execution_count": 2,
   "metadata": {
    "ExecuteTime": {
     "end_time": "2019-09-24T13:38:39.400974Z",
     "start_time": "2019-09-24T13:38:38.851281Z"
    }
   },
   "outputs": [
    {
     "name": "stdout",
     "output_type": "stream",
     "text": [
      "All variables set as e.g. krome_idx_H2\n",
      "plot 'your_output' u 1:krome_idx_H2\n",
      " the offset is nkrome= 0\n"
     ]
    }
   ],
   "source": [
    "import os\n",
    "from os import sys\n",
    "sys.path.append('./data')\n",
    "import numpy as np\n",
    "import matplotlib.pyplot as plt\n",
    "from species import *"
   ]
  },
  {
   "cell_type": "code",
   "execution_count": 3,
   "metadata": {},
   "outputs": [
    {
     "data": {
      "text/plain": [
       "133"
      ]
     },
     "execution_count": 3,
     "metadata": {},
     "output_type": "execute_result"
    }
   ],
   "source": [
    "krome_idx_CH4O"
   ]
  },
  {
   "cell_type": "code",
   "execution_count": 14,
   "metadata": {
    "ExecuteTime": {
     "end_time": "2019-09-24T13:38:39.637572Z",
     "start_time": "2019-09-24T13:38:39.576302Z"
    }
   },
   "outputs": [],
   "source": [
    "Col = [\n",
    "    '#b2182b', '#d6604d', '#f4a582', '#fddbc7', '#d1e5f0', '#92c5de',\n",
    "    '#4393c3', '#2166ac'\n",
    "]\n",
    "\n",
    "def plot_default(spe, d=4, ax=None):\n",
    "    if ax == None:\n",
    "        f, ax = plt.subplots(figsize=(12, 8))\n",
    "    txt = './data/0dis' + str(d)\n",
    "    raw = np.loadtxt(txt)\n",
    "    #txt_stop = './data/0dis0' + str(d)\n",
    "    #raw_stop = np.loadtxt(txt_stop)\n",
    "    txt_0 = './data/0dis_inf'\n",
    "    raw_0 = np.loadtxt(txt_0)\n",
    "    t = raw[:, 0]\n",
    "    dd = r'$n_{\\mathrm{H}}$'\n",
    "    \n",
    "    abu = raw[:, eval('krome_idx_' + spe)]\n",
    "    print(eval('krome_idx_' + spe))\n",
    "    #abu = raw[:, spe] #test for plot tool\n",
    "    \n",
    "    #abu_stop = raw_stop[:, eval('krome_idx_' + spe)]\n",
    "    \n",
    "    abu_0 = raw_0[:, eval('krome_idx_' + spe)]\n",
    "    #abu_0 = raw_0[:, spe] #test for plot tool\n",
    "    \n",
    "    ax.loglog(t, abu, color='green', label='X-ray', linestyle='-')\n",
    "    #ax.loglog(t, abu_stop, color='green', label='X-ray removed', linestyle='--')\n",
    "    ax.loglog(t, abu_0, color='black', label='No X-ray', linestyle='-.')\n",
    "    ax.set_xlabel(r'$t$ (yr)', fontsize=25)\n",
    "    ax.set_ylabel(r'$n{}$'.format(latex_name(spe)) + '/' + dd, fontsize=25)\n",
    "    ax.set_xlim([1e2, 1e8])\n",
    "    #ax.set_ylim([1e-8,1e-4])\n",
    "    plt.legend()\n",
    "    plt.tight_layout()\n",
    "    \n",
    "def plot_all(spe, div=None, d=[], stop=True, ax=None):\n",
    "    if d == []:\n",
    "        d = np.arange(8) + 1\n",
    "    if ax == None:\n",
    "        f, ax = plt.subplots(figsize=(12, 8))\n",
    "    for i in d:\n",
    "        txt = './data/2dis' + str(i)\n",
    "        raw = np.loadtxt(txt)\n",
    "        txt_l = './data/1dis' + str(i)\n",
    "        raw_l = np.loadtxt(txt_l)\n",
    "        txt_u = './data/3dis' + str(i)\n",
    "        raw_u = np.loadtxt(txt_u)\n",
    "        t = raw[:, 0]\n",
    "        dd = r'$n_{\\mathrm{H}}$'\n",
    "        abu = raw[:, eval('krome_idx_' + spe)]\n",
    "        abu_l = raw_l[:, eval('krome_idx_' + spe)]\n",
    "        abu_u = raw_u[:, eval('krome_idx_' + spe)]\n",
    "        if div != None:\n",
    "            abu /= raw[:, eval('krome_idx_' + div)]\n",
    "            abu_l /= raw_l[:, eval('krome_idx_' + div)]\n",
    "            abu_u /= raw_u[:, eval('krome_idx_' + div)]\n",
    "            dd = r'$n{}$'.format(latex_name(div))\n",
    "        ax.loglog(t, abu, label=txt[-1] + ' kpc', color=Col[i - 1])\n",
    "        #ax.loglog(t, abu_l, color=Col[i - 1], linestyle=':')\n",
    "        #ax.loglog(t, abu_u, color=Col[i - 1], linestyle='-.')\n",
    "        #ax.fill_between(t, abu_l, abu_u, color=Col[i - 1], alpha=0.3)\n",
    "        ax.set_xlabel(r'$t$ (yr)', fontsize=25)\n",
    "        #ax.set_ylabel(r'$n{}$'.format(latex_name(spe)) + '/' + dd, fontsize=25)\n",
    "        if stop:\n",
    "            txt = './data/2dis0' + str(i)\n",
    "            raw0 = np.loadtxt(txt)\n",
    "            txt_l0 = './data/1dis0' + str(i)\n",
    "            raw_l0 = np.loadtxt(txt_l0)\n",
    "            txt_u0 = './data/3dis0' + str(i)\n",
    "            raw_u0 = np.loadtxt(txt_u0)\n",
    "            t = raw0[:, 0] - 1e6\n",
    "            abu = raw0[:, eval('krome_idx_' + spe)]\n",
    "            abu_l = raw_l0[:, eval('krome_idx_' + spe)]\n",
    "            abu_u = raw_u0[:, eval('krome_idx_' + spe)]\n",
    "            if div != None:\n",
    "                abu /= raw0[:, eval('krome_idx_' + div)]\n",
    "                abu_l /= raw_l0[:, eval('krome_idx_' + div)]\n",
    "                abu_u /= raw_u0[:, eval('krome_idx_' + div)]\n",
    "            #ax.loglog(t, abu, color=Col[i - 1], linestyle='--')\n",
    "            #ax.loglog(t, abu_l, color=Col[i - 1], linestyle=':')\n",
    "            #ax.loglog(t, abu_u, color=Col[i - 1], linestyle='-.')\n",
    "            #ax.fill_between(t, abu_l, abu_u, color=Col[i - 1], alpha=0.3)\n",
    "    for i, dis in enumerate(d, 1):\n",
    "        #raw = np.loadtxt('./data/{}dis_inf'.format(str(i)))\n",
    "        raw = np.loadtxt('./data/3dis_inf')\n",
    "        t = raw[:, 0]\n",
    "        d = r'$n_{\\mathrm{H}}$'\n",
    "        abu = raw[:, eval('krome_idx_' + spe)]\n",
    "        if div != None:\n",
    "            abu /= raw[:, eval('krome_idx_' + div)]\n",
    "            d = 'n' + div\n",
    "        ax.loglog(t,\n",
    "                  abu,\n",
    "                  label='3infinity',\n",
    "                  color=Col[2],\n",
    "                  linestyle='-.',\n",
    "                  linewidth=5)\n",
    "    ax.set_xlim([0, 1e8])\n",
    "    #plt.legend()\n",
    "\n",
    "\n",
    "def plot_group(*args):\n",
    "    l = len(args)\n",
    "    if l == 1:\n",
    "        f, ax = plt.subplot(figsize=(24, 8))\n",
    "        plot_all(args[0], ax=ax)\n",
    "        return\n",
    "    line = int(np.ceil(l / 2))\n",
    "    f, ax = plt.subplots(line, 2, figsize=(24, 8 * line))\n",
    "    ax = ax.flatten()\n",
    "    if l % 2:\n",
    "        f.delaxes(ax[-1])\n",
    "    print(l)\n",
    "    for i, spe in enumerate(args):\n",
    "        plot_all(spe, ax=ax[i], d=np.array([1, 3, 8]))\n",
    "    plt.legend()\n",
    "    plt.tight_layout()"
   ]
  },
  {
   "cell_type": "code",
   "execution_count": 15,
   "metadata": {
    "ExecuteTime": {
     "end_time": "2019-09-24T13:38:40.701325Z",
     "start_time": "2019-09-24T13:38:40.693165Z"
    }
   },
   "outputs": [],
   "source": [
    "def latex_name(S):\n",
    "    if 'DUST' in S:\n",
    "        S = S.replace('_DUST','')\n",
    "    Name = {}\n",
    "    for i in ['H', 'N', 'O', 'C', 'S', 'F', 'M', 'P', 'F']:\n",
    "        Name[i] = '\\mathrm{' + i + '}'\n",
    "    for i in ['E', 'I', 'L', 'A', 'G']:\n",
    "        Name[i] = '\\mathrm{' + i.lower() + '}'\n",
    "    for i in '0123456789':\n",
    "        Name[i] = '_{}'.format(i)\n",
    "    Name['j'] = '^+'\n",
    "    Name['k'] = '^-'\n",
    "    S_n = ''\n",
    "    for i in S:\n",
    "        S_n += Name[i]\n",
    "    return '({})'.format(S_n)"
   ]
  },
  {
   "cell_type": "code",
   "execution_count": 16,
   "metadata": {
    "ExecuteTime": {
     "end_time": "2019-09-24T13:38:51.913408Z",
     "start_time": "2019-09-24T13:38:43.117709Z"
    },
    "scrolled": false
   },
   "outputs": [
    {
     "name": "stdout",
     "output_type": "stream",
     "text": [
      "234\n"
     ]
    },
    {
     "data": {
      "image/png": "[encoded data removed]",
      "text/plain": [
       "<Figure size 864x576 with 1 Axes>"
      ]
     },
     "metadata": {
      "needs_background": "light"
     },
     "output_type": "display_data"
    }
   ],
   "source": [
    "plot_default('H_DUSTH_DUSTC_DUSTO_DUST')"
   ]
  },
  {
   "cell_type": "code",
   "execution_count": null,
   "metadata": {},
   "outputs": [],
   "source": []
  }
 ],
 "metadata": {
  "kernelspec": {
   "display_name": "Python 2",
   "language": "python",
   "name": "python2"
  },
  "language_info": {
   "codemirror_mode": {
    "name": "ipython",
    "version": 2
   },
   "file_extension": ".py",
   "mimetype": "text/x-python",
   "name": "python",
   "nbconvert_exporter": "python",
   "pygments_lexer": "ipython2",
   "version": "2.7.16"
  }
 },
 "nbformat": 4,
 "nbformat_minor": 2
}
