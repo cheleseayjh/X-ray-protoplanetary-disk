{
 "cells": [
  {
   "cell_type": "markdown",
   "metadata": {},
   "source": [
    "# Disk structure"
   ]
  },
  {
   "cell_type": "code",
   "execution_count": 1,
   "metadata": {},
   "outputs": [
    {
     "name": "stdout",
     "output_type": "stream",
     "text": [
      "All variables set as e.g. krome_idx_H2\n",
      "plot 'your_output' u 1:krome_idx_H2\n",
      " the offset is nkrome= 0\n"
     ]
    }
   ],
   "source": [
    "import os\n",
    "from os import sys\n",
    "sys.path.append('./newdata')\n",
    "import yt.units as u\n",
    "import numpy as np\n",
    "import matplotlib.pyplot as plt\n",
    "from species import *\n",
    "atoms = ['H', 'C', 'O', 'N']\n",
    "mass = {'H': 1.0079, 'C': 12.0107, 'O': 15.9994, 'N': 14.0067}"
   ]
  },
  {
   "cell_type": "markdown",
   "metadata": {},
   "source": [
    "## parameters"
   ]
  },
  {
   "cell_type": "code",
   "execution_count": 2,
   "metadata": {},
   "outputs": [
    {
     "data": {
      "text/plain": [
       "206264.8061417351 dimensionless"
      ]
     },
     "execution_count": 2,
     "metadata": {},
     "output_type": "execute_result"
    }
   ],
   "source": [
    "1 * u.pc / (1 * u.AU)"
   ]
  },
  {
   "cell_type": "code",
   "execution_count": 3,
   "metadata": {},
   "outputs": [],
   "source": [
    "# AS 209\n",
    "M_sun = 1.989 * 10**33 * u.gram\n",
    "Md = 0.028 * M_sun\n",
    "gamma = 0.4\n",
    "Rc = 126.0 * u.AU\n",
    "psi = 0.10\n",
    "H_100 = 13.3 * u.AU\n",
    "R_100 = 100.0 * u.AU\n",
    "h_100 = H_100 / R_100"
   ]
  },
  {
   "cell_type": "code",
   "execution_count": 4,
   "metadata": {},
   "outputs": [
    {
     "data": {
      "text/plain": [
       "1.0"
      ]
     },
     "execution_count": 4,
     "metadata": {},
     "output_type": "execute_result"
    }
   ],
   "source": [
    "np.sin(np.pi/2)"
   ]
  },
  {
   "cell_type": "markdown",
   "metadata": {},
   "source": [
    "$$\\rho(R,\\Theta) = \\frac{\\Sigma}{\\sqrt{2\\pi}Rh} \\exp{\\left[-\\frac{1}{2}\\left(\\frac{\\pi/2 - \\Theta}{h}\\right)^2\\right]}$$ "
   ]
  },
  {
   "cell_type": "markdown",
   "metadata": {},
   "source": [
    "$$\\Sigma = \\Sigma_c \\left(\\frac{R}{R_c} \\right)^{-\\gamma} \\exp{\\left[-\\left(\\frac{R}{R_c} \\right)^{2-\\gamma}\\right]}$$\n",
    "$$h = h_c \\left(\\frac{R}{R_c}\\right)^{\\psi}$$\n",
    "$$\\Sigma_c = (2-\\gamma)\\frac{M_d}{2\\pi R_c^2}$$"
   ]
  },
  {
   "cell_type": "code",
   "execution_count": 5,
   "metadata": {},
   "outputs": [],
   "source": [
    "def height(radius):\n",
    "    return (h_100 * (np.abs(radius) / R_100) ** psi)\n",
    "\n",
    "Sigma_c = ((2 - gamma) * Md / (2 * np.pi * Rc**2))\n",
    "\n",
    "def suf_mass(radius):\n",
    "    return (Sigma_c * (Rc / np.abs(radius))**gamma * np.exp(-(np.abs(radius) / Rc)**(2 - gamma)))\n",
    "\n",
    "def rho(radius, azimuth):\n",
    "    h = height(radius)\n",
    "    Sigma = suf_mass(radius)\n",
    "    return (Sigma / (np.sqrt(2 * np.pi) * np.abs(radius) * h)) * np.exp(-0.5 * ((0.5 * np.pi - azimuth) * u.AU / h)**2)\n",
    "\n",
    "def get_nH(radius, azimuth):\n",
    "    return rho(radius, azimuth) / u.mass_hydrogen"
   ]
  },
  {
   "cell_type": "code",
   "execution_count": 6,
   "metadata": {},
   "outputs": [
    {
     "data": {
      "text/plain": [
       "0.133 dimensionless"
      ]
     },
     "execution_count": 6,
     "metadata": {},
     "output_type": "execute_result"
    }
   ],
   "source": [
    "radius = 100 * u.AU\n",
    "azimuth = 2 * np.pi / 3\n",
    "#azimuth = np.pi / 3\n",
    "height(radius)"
   ]
  },
  {
   "cell_type": "code",
   "execution_count": 129,
   "metadata": {},
   "outputs": [
    {
     "data": {
      "text/plain": [
       "2.1940208308498383 g/cm**2"
      ]
     },
     "execution_count": 129,
     "metadata": {},
     "output_type": "execute_result"
    }
   ],
   "source": [
    "suf_mass(radius).in_cgs()"
   ]
  },
  {
   "cell_type": "code",
   "execution_count": 130,
   "metadata": {},
   "outputs": [
    {
     "data": {
      "text/plain": [
       "1.8961992122310643e-18 g/cm**3"
      ]
     },
     "execution_count": 130,
     "metadata": {},
     "output_type": "execute_result"
    }
   ],
   "source": [
    "(rho(radius, azimuth)).in_cgs()"
   ]
  },
  {
   "cell_type": "markdown",
   "metadata": {},
   "source": [
    "$$T = T_c \\left(\\frac{R}{\\text{1AU}}\\right)^{-q}$$\n",
    "$$T_c \\approx 200\\text{K,  }q \\approx 0.55$$"
   ]
  },
  {
   "cell_type": "code",
   "execution_count": 131,
   "metadata": {},
   "outputs": [
    {
     "data": {
      "text/plain": [
       "1132914.684032348 cm**(-3)"
      ]
     },
     "execution_count": 131,
     "metadata": {},
     "output_type": "execute_result"
    }
   ],
   "source": [
    "(get_nH(radius, azimuth)).in_cgs()"
   ]
  },
  {
   "cell_type": "code",
   "execution_count": 132,
   "metadata": {},
   "outputs": [],
   "source": [
    "Tc = 200.0 * u.Kelvin\n",
    "\n",
    "def temp(radius):\n",
    "    return Tc * (1.0 * u.AU / np.abs(radius))**(0.55)"
   ]
  },
  {
   "cell_type": "code",
   "execution_count": 133,
   "metadata": {},
   "outputs": [
    {
     "data": {
      "text/plain": [
       "15.886564694485628 K"
      ]
     },
     "execution_count": 133,
     "metadata": {},
     "output_type": "execute_result"
    }
   ],
   "source": [
    "temp(radius)"
   ]
  },
  {
   "cell_type": "markdown",
   "metadata": {},
   "source": [
    "## Model"
   ]
  },
  {
   "cell_type": "markdown",
   "metadata": {},
   "source": [
    "X-ray angle $$\\alpha = \\frac{\\pi}{6}$$\n",
    "first calculate the abundance along line of X-ray & disk center "
   ]
  },
  {
   "cell_type": "code",
   "execution_count": 8,
   "metadata": {},
   "outputs": [],
   "source": [
    "def column_density(radius, azimuth):\n",
    "    density = 0 * u.gram / u.cm**2\n",
    "    r = radius.copy()\n",
    "    step = np.abs(radius) / 1000.0\n",
    "    while r <= 900 * u.AU:\n",
    "        density += rho(r, azimuth) * step\n",
    "        r += step\n",
    "        step = np.maximum(np.abs(r) / 1000.0, 0.01 * u.AU)\n",
    "    return density\n",
    "\n",
    "def get_ncolH(radius, azimuth):\n",
    "    density = 0 / u.cm**2\n",
    "    r = radius.copy()\n",
    "    step = np.abs(radius) / 1000.0\n",
    "    while r <= 900 * u.AU:\n",
    "        density += get_nH(r, azimuth) * step\n",
    "        r += step\n",
    "        step = np.maximum(np.abs(r) / 1000.0, 0.01 * u.AU)\n",
    "    return density\n",
    "\n",
    "def get_vertical_ncolH(radius, azimuth):\n",
    "    density = 0 / u.cm**2\n",
    "    theta = 0.001\n",
    "    step = 0.001\n",
    "    while theta < azimuth:\n",
    "        density += get_nH(radius,theta) * radius * step / ((np.sin(theta))**2)\n",
    "        theta += step\n",
    "        #print density\n",
    "    return density"
   ]
  },
  {
   "cell_type": "code",
   "execution_count": 26,
   "metadata": {},
   "outputs": [
    {
     "data": {
      "text/plain": [
       "195.71020356325678 cm**(-3)"
      ]
     },
     "execution_count": 26,
     "metadata": {},
     "output_type": "execute_result"
    }
   ],
   "source": [
    "radius = 500 * u.AU\n",
    "azimuth = 2 * np.pi / 3\n",
    "(get_nH(radius, azimuth)).in_cgs()"
   ]
  },
  {
   "cell_type": "code",
   "execution_count": 27,
   "metadata": {},
   "outputs": [
    {
     "data": {
      "text/plain": [
       "1.6157072815955598e+20"
      ]
     },
     "execution_count": 27,
     "metadata": {},
     "output_type": "execute_result"
    }
   ],
   "source": [
    "float((get_vertical_ncolH(radius, azimuth)).in_cgs())"
   ]
  },
  {
   "cell_type": "code",
   "execution_count": 65,
   "metadata": {},
   "outputs": [],
   "source": [
    "#column_density(radius, azimuth).in_cgs()"
   ]
  },
  {
   "cell_type": "code",
   "execution_count": 66,
   "metadata": {},
   "outputs": [],
   "source": [
    "ncol = (get_ncolH(radius, azimuth)).in_cgs()"
   ]
  },
  {
   "cell_type": "code",
   "execution_count": 67,
   "metadata": {},
   "outputs": [
    {
     "data": {
      "text/plain": [
       "6.193166666138958e+21"
      ]
     },
     "execution_count": 67,
     "metadata": {},
     "output_type": "execute_result"
    }
   ],
   "source": [
    "float(ncol)"
   ]
  },
  {
   "cell_type": "code",
   "execution_count": 136,
   "metadata": {},
   "outputs": [],
   "source": [
    "def write_test(nH, ncolH, temp):\n",
    "    write_test_Xray(nH, ncolH, temp)\n",
    "    write_test0(nH, ncolH, temp)\n",
    "\n",
    "def Av(ncolH):\n",
    "    return(str(ncolH*5.3e-22)+'d0')\n",
    "\n",
    "def Tgas(temp):\n",
    "    return(str(temp)+'d0')\n",
    "\n",
    "def xH(nH):\n",
    "    return(str(nH)+'d0')\n",
    "\n",
    "def write_test_Xray(nH, ncolH, temp):\n",
    "    with open('./test_Xray.f90', 'w') as f:\n",
    "        f.write('!###################################################\\n\\\n",
    "! WARNING:This is a test auto-generated by KROME, in order to\\n\\\n",
    "! show a bare-minimal code to call the KROME\\'s subroutine.\\n\\\n",
    "! Most of the values could not be appropriate for your\\n\\\n",
    "! problem, since this test is only intended as a general\\n\\\n",
    "! purpose example.\\n\\\n",
    "program test_krome\\n\\n\\\n",
    "  use krome_main\\n\\\n",
    "  use krome_user\\n\\\n",
    "  use krome_user_commons\\n\\\n",
    "  use krome_ode\\n\\\n",
    "  use krome_getphys\\n\\n\\\n",
    "  implicit none\\n\\n\\\n",
    "  integer,parameter::nx=krome_nmols\\n\\\n",
    "  real*8::x(nx),m(nx+4),Tgas,t,dt,spy,xH,dust2gas,x1(nx)\\n\\\n",
    "  integer,parameter::nd=krome_ndust,imax=100\\n\\\n",
    "  real*8::xdust(nd),adust(nd),xdusti(nd),data(imax,nd),dataT(imax)\\n\\\n",
    "  integer::i,j,k\\n\\\n",
    "  spy = 3600. * 24. * 365. !seconds per year\\n\\\n",
    "  Tgas = {} !gas temperature (K)\\n\\\n",
    "  xH = {} !Hydrogen density\\n\\n\\\n",
    "  !user commons for opacity and CR rate\\n\\\n",
    "  call krome_set_user_av({}) !opacity Av (#)\\n\\\n",
    "  call krome_set_user_crate(1.3d-17) !CR rate (1/s)\\n\\\n",
    "  call krome_set_user_gas_dust_ratio(1d2) !gas/dust\\n\\\n",
    "  call krome_init()\\n\\n\\\n",
    "  x(:) = 1.d-20\\n\\\n",
    "  !initial densities (model EA2 Wakelam+Herbst 2008)\\n\\\n",
    "  x(KROME_idx_H2)  = 0.5d0   * xH\\n\\\n",
    "  x(KROME_idx_He)  = 9d-2   * xH\\n\\\n",
    "  x(KROME_idx_N)   = 7.6d-5  * xH\\n\\\n",
    "  x(KROME_idx_O)   = 2.56d-4 * xH\\n\\\n",
    "  x(KROME_idx_Cj)  = 1.2d-4  * xH\\n\\\n",
    "  x(KROME_idx_Sj)  = 1.5d-5  * xH\\n\\\n",
    "  x(KROME_idx_SIj) = 1.7d-6  * xH\\n\\\n",
    "  x(KROME_idx_Fej) = 2d-7   * xH\\n\\\n",
    "  x(KROME_idx_Naj) = 2d-7   * xH\\n\\\n",
    "  x(KROME_idx_Mgj) = 2.4d-6  * xH\\n\\\n",
    "  x(KROME_idx_Clj) = 1.8d-7  * xH\\n\\\n",
    "  x(KROME_idx_Pj)  = 1.17d-7 * xH\\n\\\n",
    "  x(KROME_idx_Fj)  = 1.8d-8  * xH\\n\\\n",
    "  x(KROME_idx_GRAIN0) = 1.33d-12 * xH\\n\\n\\\n",
    "  !calculate elctrons (neutral cloud)\\n\\\n",
    "  x(KROME_idx_e) = krome_get_electrons(x(:))\\n\\n\\\n",
    "  !NOTE: here myCoe array is employed to store the\\n\\\n",
    "  ! coefficient values, since the temperature is\\n\\\n",
    "  ! constant during the model evolution.\\n\\\n",
    "  ! myCoe(:) is defined in krome_user_commons\\n\\\n",
    "  !myCoe(:) = krome_get_coef(Tgas,x(:))\\n\\n\\\n",
    "  dt = 1d2*spy !time-step (s)\\n\\\n",
    "  t = 0d0 !initial time (s)\\n\\n\\\n",
    "  call krome_set_J21xray(1d0)\\n\\\n",
    "  !output header\\n\\\n",
    "  open(unit=77, file=\"./newdata/dis\")\\n\\\n",
    "  write(77,\\'(a)\\') \"#time \"//trim(krome_get_names_header())\\n\\\n",
    "  x1(:)=x(:)\\n\\\n",
    "  m(:)=get_mass()\\n\\\n",
    "  k = 0\\n\\\n",
    "  do\\n\\\n",
    "    print \\'(a10,E18.8,a3)\\',\"time:\",t/spy,\"yr\"\\n\\\n",
    "    call krome(x1(:),Tgas,dt) !call KROME\\n\\\n",
    "    x1(:)=max(1d-50*xH,x1(:))\\n\\\n",
    "    k = k + 1\\n\\\n",
    "    t = t + dt !increase time\\n\\\n",
    "    !if (mod(k,10) == 0) call jex(nx,t,x1(:),\"./data/Trace_inf\")\\n\\\n",
    "    dt = max(dt,t/10d0) !increase time-step\\n\\\n",
    "    write(77,\\'(999E15.5)\\') t/spy,x1(:)/xH\\n\\\n",
    "    if(t>1d8*spy) exit !exit when overshoot 1d8 years\\n\\\n",
    "  end do\\n\\n\\\n",
    "end program test_krome'.format(Tgas(temp), xH(nH), Av(ncolH)))\n",
    "        \n",
    "        \n",
    "def write_test0(nH, ncolH, temp):\n",
    "    with open('./test0.f90', 'w') as f:\n",
    "        f.write('!###################################################\\n\\\n",
    "! WARNING:This is a test auto-generated by KROME, in order to\\n\\\n",
    "! show a bare-minimal code to call the KROME\\'s subroutine.\\n\\\n",
    "! Most of the values could not be appropriate for your\\n\\\n",
    "! problem, since this test is only intended as a general\\n\\\n",
    "! purpose example.\\n\\\n",
    "program test_krome\\n\\n\\\n",
    "  use krome_main\\n\\\n",
    "  use krome_user\\n\\\n",
    "  use krome_user_commons\\n\\\n",
    "  use krome_ode\\n\\\n",
    "  use krome_getphys\\n\\n\\\n",
    "  implicit none\\n\\n\\\n",
    "  integer,parameter::nx=krome_nmols\\n\\\n",
    "  real*8::x(nx),m(nx+4),Tgas,t,dt,spy,xH,dust2gas,x1(nx)\\n\\\n",
    "  integer,parameter::nd=krome_ndust,imax=100\\n\\\n",
    "  real*8::xdust(nd),adust(nd),xdusti(nd),data(imax,nd),dataT(imax)\\n\\\n",
    "  integer::i,j,k\\n\\\n",
    "  spy = 3600. * 24. * 365. !seconds per year\\n\\\n",
    "  Tgas = {} !gas temperature (K)\\n\\\n",
    "  xH = {} !Hydrogen density\\n\\n\\\n",
    "  !user commons for opacity and CR rate\\n\\\n",
    "  call krome_set_user_av({}) !opacity Av (#)\\n\\\n",
    "  call krome_set_user_crate(1.3d-17) !CR rate (1/s)\\n\\\n",
    "  call krome_set_user_gas_dust_ratio(1d2) !gas/dust\\n\\\n",
    "  call krome_init()\\n\\n\\\n",
    "  x(:) = 1.d-20\\n\\\n",
    "  !initial densities (model EA2 Wakelam+Herbst 2008)\\n\\\n",
    "  x(KROME_idx_H2)  = 0.5d0   * xH\\n\\\n",
    "  x(KROME_idx_He)  = 9d-2   * xH\\n\\\n",
    "  x(KROME_idx_N)   = 7.6d-5  * xH\\n\\\n",
    "  x(KROME_idx_O)   = 2.56d-4 * xH\\n\\\n",
    "  x(KROME_idx_Cj)  = 1.2d-4  * xH\\n\\\n",
    "  x(KROME_idx_Sj)  = 1.5d-5  * xH\\n\\\n",
    "  x(KROME_idx_SIj) = 1.7d-6  * xH\\n\\\n",
    "  x(KROME_idx_Fej) = 2d-7   * xH\\n\\\n",
    "  x(KROME_idx_Naj) = 2d-7   * xH\\n\\\n",
    "  x(KROME_idx_Mgj) = 2.4d-6  * xH\\n\\\n",
    "  x(KROME_idx_Clj) = 1.8d-7  * xH\\n\\\n",
    "  x(KROME_idx_Pj)  = 1.17d-7 * xH\\n\\\n",
    "  x(KROME_idx_Fj)  = 1.8d-8  * xH\\n\\\n",
    "  x(KROME_idx_GRAIN0) = 1.33d-12 * xH\\n\\n\\\n",
    "  !calculate elctrons (neutral cloud)\\n\\\n",
    "  x(KROME_idx_e) = krome_get_electrons(x(:))\\n\\n\\\n",
    "  !NOTE: here myCoe array is employed to store the\\n\\\n",
    "  ! coefficient values, since the temperature is\\n\\\n",
    "  ! constant during the model evolution.\\n\\\n",
    "  ! myCoe(:) is defined in krome_user_commons\\n\\\n",
    "  !myCoe(:) = krome_get_coef(Tgas,x(:))\\n\\n\\\n",
    "  dt = 1d2*spy !time-step (s)\\n\\\n",
    "  t = 0d0 !initial time (s)\\n\\n\\\n",
    "  call krome_set_J21xray(0d0)\\n\\\n",
    "  !output header\\n\\\n",
    "  open(unit=77, file=\"./newdata/dis_inf\")\\n\\\n",
    "  write(77,\\'(a)\\') \"#time \"//trim(krome_get_names_header())\\n\\\n",
    "  x1(:)=x(:)\\n\\\n",
    "  m(:)=get_mass()\\n\\\n",
    "  k = 0\\n\\\n",
    "  do\\n\\\n",
    "    print \\'(a10,E18.8,a3)\\',\"time:\",t/spy,\"yr\"\\n\\\n",
    "    call krome(x1(:),Tgas,dt) !call KROME\\n\\\n",
    "    x1(:)=max(1d-50*xH,x1(:))\\n\\\n",
    "    k = k + 1\\n\\\n",
    "    t = t + dt !increase time\\n\\\n",
    "    !if (mod(k,10) == 0) call jex(nx,t,x1(:),\"./data/Trace_inf\")\\n\\\n",
    "    dt = max(dt,t/10d0) !increase time-step\\n\\\n",
    "    write(77,\\'(999E15.5)\\') t/spy,x1(:)/xH\\n\\\n",
    "    if(t>1d8*spy) exit !exit when overshoot 1d8 years\\n\\\n",
    "  end do\\n\\n\\\n",
    "end program test_krome'.format(Tgas(temp), xH(nH), Av(ncolH)))"
   ]
  },
  {
   "cell_type": "code",
   "execution_count": 137,
   "metadata": {},
   "outputs": [],
   "source": [
    "# use radius, y/n(for X-ray included or not) to denote our result, only calculate a line\n",
    "def AGN_default(ncolH, radius, label=0, dis=4):\n",
    "    with open('krome_getphys.f90', 'r') as f:\n",
    "        lines = f.readlines()\n",
    "        lines[3713] = 'num2col = max(ncalc,1d-40)*{}\\n'.format(str(ncolH/2e4))\n",
    "    with open('krome_getphys.f90', 'w') as f:\n",
    "        for l in lines:\n",
    "            f.write(l)\n",
    "\n",
    "    nH = './rate_dis/ratexH' + str(dis) + '.dat'\n",
    "    nHe = './rate_dis/ratexHe' + str(dis) + '.dat'\n",
    "    orderH = 'cat ' + nH + ' > ratexH.dat'\n",
    "    os.system(orderH)\n",
    "    orderHe = 'cat ' + nHe + ' > ratexHe.dat'\n",
    "    os.system(orderHe)\n",
    "\n",
    "    os.system('cat ./test_Xray.f90 > ./test.f90')\n",
    "    os.system('make gfortran')\n",
    "    os.system('./test')\n",
    "    command = 'cat ./newdata/dis > ./newdata/{}AU_y'.format(str(radius))\n",
    "    os.system(command)\n",
    "    command = 'rm ./newdata/dis'\n",
    "    #command = 'cat ./data/Trace > ./data/Trace' + str(dis)\n",
    "    #os.system(command)\n",
    "    cowsay = 'cowsay -f www I am ionized at ' + str(radius) + ' AU'\n",
    "    os.system(cowsay)\n",
    "\n",
    "    '''\n",
    "    os.system('cat ./test_stop.f90 > ./test.f90')\n",
    "    os.system('make gfortran')\n",
    "    os.system('./test')\n",
    "    command = 'cat ./newdata/dis > ./newdata/{}dis0'.format(str(label)) + str(dis)\n",
    "    os.system(command)\n",
    "    cowsay = 'cowsay -f www I am ionized at ' + str(\n",
    "        dis) + ' kpc, but have been saved at 1E6 YEARS'\n",
    "    os.system(cowsay)\n",
    "    '''\n",
    "\n",
    "    #command = 'rm ./newdata/dis ./newdata/Trace'.format(str(label))\n",
    "    os.system(command)\n",
    "    os.system('cat ./test0.f90 > ./test.f90')\n",
    "    os.system('make gfortran')\n",
    "    os.system('./test')\n",
    "    command = 'cat ./newdata/dis_inf > ./newdata/{}AU_n'.format(str(radius))\n",
    "    os.system(command)\n",
    "    command = 'rm ./newdata/dis_inf'\n",
    "    os.system(command)\n",
    "    os.system('cowsay -f www I feel ok')"
   ]
  },
  {
   "cell_type": "code",
   "execution_count": 138,
   "metadata": {},
   "outputs": [],
   "source": [
    "for R in np.arange(100,500,10):\n",
    "    radius = R.copy() * u.AU\n",
    "    azimuth =2 * np.pi / 3\n",
    "    nH = float(get_nH(radius, azimuth).in_cgs())\n",
    "    ncolH = float(get_vertical_ncolH(radius, azimuth).in_cgs())\n",
    "    T = float(temp(radius))\n",
    "    write_test(nH, ncolH, T)\n",
    "    AGN_default(ncolH, R)"
   ]
  },
  {
   "cell_type": "code",
   "execution_count": 94,
   "metadata": {},
   "outputs": [
    {
     "data": {
      "text/plain": [
       "50.2801174374191 cm**(-3)"
      ]
     },
     "execution_count": 94,
     "metadata": {},
     "output_type": "execute_result"
    }
   ],
   "source": [
    "radius = 700 * u.AU\n",
    "get_nH(radius, azimuth).in_cgs()"
   ]
  },
  {
   "cell_type": "code",
   "execution_count": 95,
   "metadata": {},
   "outputs": [
    {
     "data": {
      "text/plain": [
       "1.9873035471151304e+16 cm**(-2)"
      ]
     },
     "execution_count": 95,
     "metadata": {},
     "output_type": "execute_result"
    }
   ],
   "source": [
    "get_ncolH(radius, azimuth).in_cgs()"
   ]
  },
  {
   "cell_type": "code",
   "execution_count": 88,
   "metadata": {},
   "outputs": [
    {
     "data": {
      "text/plain": [
       "9.597607625346326 K"
      ]
     },
     "execution_count": 88,
     "metadata": {},
     "output_type": "execute_result"
    }
   ],
   "source": [
    "temp(radius)"
   ]
  },
  {
   "cell_type": "code",
   "execution_count": 89,
   "metadata": {},
   "outputs": [],
   "source": [
    "nH = float(get_nH(radius, azimuth).in_cgs())\n",
    "ncolH = float(get_ncolH(radius, azimuth).in_cgs())\n",
    "T = float(temp(radius))\n",
    "write_test(nH, ncolH, T)\n",
    "AGN_default(ncolH, 250)"
   ]
  },
  {
   "cell_type": "code",
   "execution_count": null,
   "metadata": {},
   "outputs": [],
   "source": []
  }
 ],
 "metadata": {
  "kernelspec": {
   "display_name": "Python 2",
   "language": "python",
   "name": "python2"
  },
  "language_info": {
   "codemirror_mode": {
    "name": "ipython",
    "version": 2
   },
   "file_extension": ".py",
   "mimetype": "text/x-python",
   "name": "python",
   "nbconvert_exporter": "python",
   "pygments_lexer": "ipython2",
   "version": "2.7.16"
  }
 },
 "nbformat": 4,
 "nbformat_minor": 2
}
